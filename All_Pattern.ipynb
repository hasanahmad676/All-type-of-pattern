{
  "nbformat": 4,
  "nbformat_minor": 0,
  "metadata": {
    "colab": {
      "provenance": []
    },
    "kernelspec": {
      "name": "python3",
      "display_name": "Python 3"
    },
    "language_info": {
      "name": "python"
    }
  },
  "cells": [
    {
      "cell_type": "markdown",
      "source": [
        "pattern-1"
      ],
      "metadata": {
        "id": "ggHprMwIfirf"
      }
    },
    {
      "cell_type": "code",
      "source": [
        "n=int(input(\"number of row: \"))\n",
        "\n",
        "for i in range(n):          # print the rows\n",
        "  for j in range(n):        # print the columns\n",
        "    print(\"*\", end=\" \")     # print star according condition\n",
        "  print()\n",
        "\n"
      ],
      "metadata": {
        "colab": {
          "base_uri": "https://localhost:8080/"
        },
        "id": "IgpbHDNJb5Ko",
        "outputId": "8a3fd82e-9d7d-422e-de5b-1eaf50333301"
      },
      "execution_count": null,
      "outputs": [
        {
          "output_type": "stream",
          "name": "stdout",
          "text": [
            "number of row: 4\n",
            "* * * * \n",
            "* * * * \n",
            "* * * * \n",
            "* * * * \n"
          ]
        }
      ]
    },
    {
      "cell_type": "markdown",
      "source": [
        "pattern-2"
      ],
      "metadata": {
        "id": "DY1M2Y3zfdM5"
      }
    },
    {
      "cell_type": "code",
      "source": [
        "n=int(input(\"number of row: \"))\n",
        "\n",
        "for i in range(n+1):\n",
        "  for j in range(i):\n",
        "    print(\"*\", end=\" \")\n",
        "  print()"
      ],
      "metadata": {
        "colab": {
          "base_uri": "https://localhost:8080/"
        },
        "id": "TFxkNjNrb5N5",
        "outputId": "d5afbdad-36fc-4b13-f35b-af650724070a"
      },
      "execution_count": null,
      "outputs": [
        {
          "output_type": "stream",
          "name": "stdout",
          "text": [
            "number of row: 4\n",
            "\n",
            "* \n",
            "* * \n",
            "* * * \n",
            "* * * * \n"
          ]
        }
      ]
    },
    {
      "cell_type": "markdown",
      "source": [
        "Pattern-3"
      ],
      "metadata": {
        "id": "520b5l4-f1Ns"
      }
    },
    {
      "cell_type": "code",
      "source": [
        "n=int(input(\"number of row: \"))\n",
        "\n",
        "for i in range(n+1):\n",
        "  for j in range(i,n):\n",
        "    print(\"*\", end=\" \")\n",
        "  print()"
      ],
      "metadata": {
        "colab": {
          "base_uri": "https://localhost:8080/"
        },
        "id": "o8pLT9Ssb5Rn",
        "outputId": "e2d98178-d8b2-4b64-c0c3-6af9aa0a8d4e"
      },
      "execution_count": null,
      "outputs": [
        {
          "output_type": "stream",
          "name": "stdout",
          "text": [
            "number of row: 4\n",
            "* * * * \n",
            "* * * \n",
            "* * \n",
            "* \n",
            "\n"
          ]
        }
      ]
    },
    {
      "cell_type": "markdown",
      "source": [
        "Pattern-4"
      ],
      "metadata": {
        "id": "_nPdsLDZoblP"
      }
    },
    {
      "cell_type": "code",
      "source": [
        "n=int(input(\"number of row: \"))\n",
        "\n",
        "for i in range(1, n + 1):\n",
        "    for j in range(1, i + 1):\n",
        "        print(j, end=\" \")\n",
        "    print()"
      ],
      "metadata": {
        "colab": {
          "base_uri": "https://localhost:8080/"
        },
        "id": "74wnbAneb5VL",
        "outputId": "49f34887-b060-4cc4-a13c-58d3041254e5"
      },
      "execution_count": null,
      "outputs": [
        {
          "output_type": "stream",
          "name": "stdout",
          "text": [
            "number of row: 4\n",
            "1 \n",
            "1 2 \n",
            "1 2 3 \n",
            "1 2 3 4 \n"
          ]
        }
      ]
    },
    {
      "cell_type": "code",
      "source": [
        "n=int(input(\"number of row: \"))\n",
        "i=1\n",
        "for i in range(n + 1):\n",
        "    for j in range(1, i + 1):\n",
        "        print(j, end=\" \")\n",
        "    print()"
      ],
      "metadata": {
        "colab": {
          "base_uri": "https://localhost:8080/"
        },
        "id": "AIlk38Ldb5Yq",
        "outputId": "ba62efd8-db05-4261-e9f6-15dfc5550c82"
      },
      "execution_count": null,
      "outputs": [
        {
          "output_type": "stream",
          "name": "stdout",
          "text": [
            "number of row: 4\n",
            "\n",
            "1 \n",
            "1 2 \n",
            "1 2 3 \n",
            "1 2 3 4 \n"
          ]
        }
      ]
    },
    {
      "cell_type": "markdown",
      "source": [
        "Pattern-5"
      ],
      "metadata": {
        "id": "KNJ-gHgIzQgK"
      }
    },
    {
      "cell_type": "code",
      "source": [
        "n=int(input(\"number of row: \"))\n",
        "\n",
        "for i in range(n):\n",
        "  for j in range(i,n):\n",
        "    print(\" \", end=\" \")\n",
        "  for j in range(i+1):\n",
        "     print('*', end=' ')\n",
        "  print()"
      ],
      "metadata": {
        "colab": {
          "base_uri": "https://localhost:8080/"
        },
        "id": "c7_fsR_yb5cS",
        "outputId": "7d80dabb-bfe7-4d6c-cbe3-b37c54d0aa18"
      },
      "execution_count": null,
      "outputs": [
        {
          "output_type": "stream",
          "name": "stdout",
          "text": [
            "number of row: 4\n",
            "        * \n",
            "      * * \n",
            "    * * * \n",
            "  * * * * \n"
          ]
        }
      ]
    },
    {
      "cell_type": "code",
      "source": [
        "n = 5\n",
        "for i in range(n):  # Outer loop for the number of rows\n",
        "  for j in range(i, n):  # Inner loop for printing spaces before the asterisks\n",
        "     print(' ', end=' ')\n",
        "  for j in range(i+1):  # Inner loop for printing asterisks\n",
        "     print('*', end=' ')\n",
        "  print()  # Move to the next line after each row\n"
      ],
      "metadata": {
        "colab": {
          "base_uri": "https://localhost:8080/"
        },
        "id": "mKuc2IxSogwV",
        "outputId": "55e6e887-6484-42bd-c336-f005e4940228"
      },
      "execution_count": null,
      "outputs": [
        {
          "output_type": "stream",
          "name": "stdout",
          "text": [
            "          * \n",
            "        * * \n",
            "      * * * \n",
            "    * * * * \n",
            "  * * * * * \n"
          ]
        }
      ]
    },
    {
      "cell_type": "code",
      "source": [],
      "metadata": {
        "id": "2nKT1va-yRPl"
      },
      "execution_count": null,
      "outputs": []
    },
    {
      "cell_type": "code",
      "source": [],
      "metadata": {
        "id": "8p4ucjzyyRSq"
      },
      "execution_count": null,
      "outputs": []
    },
    {
      "cell_type": "code",
      "source": [],
      "metadata": {
        "id": "1p5t0ipDyRVs"
      },
      "execution_count": null,
      "outputs": []
    },
    {
      "cell_type": "code",
      "source": [
        "n=5\n",
        "\n",
        "for i in range(n):\n",
        "  for j in range(i,n):\n",
        "    print(\" \",end=\"\")\n",
        "  for j in range (i+1):\n",
        "    print(\"*\",end=\"\")\n",
        "  print()"
      ],
      "metadata": {
        "colab": {
          "base_uri": "https://localhost:8080/"
        },
        "id": "pVtJNb4tyRYx",
        "outputId": "10980413-4088-437e-92e2-2acc5c503b38"
      },
      "execution_count": null,
      "outputs": [
        {
          "output_type": "stream",
          "name": "stdout",
          "text": [
            "     *\n",
            "    **\n",
            "   ***\n",
            "  ****\n",
            " *****\n"
          ]
        }
      ]
    },
    {
      "cell_type": "markdown",
      "source": [
        "pattern-6"
      ],
      "metadata": {
        "id": "0S34xsizztOt"
      }
    },
    {
      "cell_type": "code",
      "source": [
        "n = 5\n",
        "for i in range(n):\n",
        "   for j in range(i, n):\n",
        "      print(' ', end=' ')\n",
        "   for j in range(i):\n",
        "      print('*', end=' ')\n",
        "   for j in range(i+1):\n",
        "      print('*', end=' ')\n",
        "   print()"
      ],
      "metadata": {
        "colab": {
          "base_uri": "https://localhost:8080/"
        },
        "id": "bFzAxbPmogzM",
        "outputId": "50eafa0e-17c5-4a75-dbf2-1a00dcf86058"
      },
      "execution_count": null,
      "outputs": [
        {
          "output_type": "stream",
          "name": "stdout",
          "text": [
            "          * \n",
            "        * * * \n",
            "      * * * * * \n",
            "    * * * * * * * \n",
            "  * * * * * * * * * \n"
          ]
        }
      ]
    },
    {
      "cell_type": "code",
      "source": [],
      "metadata": {
        "id": "ZGwMpqOczsga"
      },
      "execution_count": null,
      "outputs": []
    },
    {
      "cell_type": "code",
      "source": [],
      "metadata": {
        "id": "dOOOwNa_zsjk"
      },
      "execution_count": null,
      "outputs": []
    },
    {
      "cell_type": "code",
      "source": [],
      "metadata": {
        "id": "ucr411lgzsnU"
      },
      "execution_count": null,
      "outputs": []
    }
  ]
}