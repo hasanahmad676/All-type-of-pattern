{
  "nbformat": 4,
  "nbformat_minor": 0,
  "metadata": {
    "colab": {
      "provenance": []
    },
    "kernelspec": {
      "name": "python3",
      "display_name": "Python 3"
    },
    "language_info": {
      "name": "python"
    }
  },
  "cells": [
    {
      "cell_type": "markdown",
      "source": [
        "1. Ractengular"
      ],
      "metadata": {
        "id": "_UKZfPqfCF9E"
      }
    },
    {
      "cell_type": "code",
      "execution_count": null,
      "metadata": {
        "colab": {
          "base_uri": "https://localhost:8080/"
        },
        "id": "Lg4yzAx-CBlt",
        "outputId": "e9cc97b6-ea67-4a91-a327-d21cf779fff2"
      },
      "outputs": [
        {
          "output_type": "stream",
          "name": "stdout",
          "text": [
            "enter a number for pattern print: 4\n",
            "* * * * \n",
            "* * * * \n",
            "* * * * \n",
            "* * * * \n"
          ]
        }
      ],
      "source": [
        "n=int(input(\"enter a number for pattern print: \"))\n",
        "for i in range(n):\n",
        "  for j in range(n):\n",
        "    print(\"*\", end=\" \" )\n",
        "  print()"
      ]
    },
    {
      "cell_type": "markdown",
      "source": [
        "2. increasing"
      ],
      "metadata": {
        "id": "N2XGMCgGCyqp"
      }
    },
    {
      "cell_type": "code",
      "source": [
        "n=int(input(\"enter a number for pattern print: \"))\n",
        "for i in range(n):\n",
        "  for j in range(i+1):\n",
        "    print(\"*\", end=\" \" )\n",
        "  print()"
      ],
      "metadata": {
        "colab": {
          "base_uri": "https://localhost:8080/"
        },
        "id": "7W_snKv4CExB",
        "outputId": "a1a0ef9e-b079-44d5-93b9-b2e007d02041"
      },
      "execution_count": null,
      "outputs": [
        {
          "output_type": "stream",
          "name": "stdout",
          "text": [
            "enter a number for pattern print: 4\n",
            "* \n",
            "* * \n",
            "* * * \n",
            "* * * * \n"
          ]
        }
      ]
    },
    {
      "cell_type": "markdown",
      "source": [
        "3. decreasing pattern"
      ],
      "metadata": {
        "id": "wmIEl8lNDEFM"
      }
    },
    {
      "cell_type": "code",
      "source": [
        "n=int(input(\"enter a number for pattern print: \"))\n",
        "for i in range(n):\n",
        "  for j in range(i,n):\n",
        "    print(\"*\", end=\" \" )\n",
        "  print()"
      ],
      "metadata": {
        "colab": {
          "base_uri": "https://localhost:8080/"
        },
        "id": "esbXzvEeCEzq",
        "outputId": "ce8981e0-79ff-45de-fc3c-505224b96488"
      },
      "execution_count": null,
      "outputs": [
        {
          "output_type": "stream",
          "name": "stdout",
          "text": [
            "enter a number for pattern print: 4\n",
            "* * * * \n",
            "* * * \n",
            "* * \n",
            "* \n"
          ]
        }
      ]
    },
    {
      "cell_type": "markdown",
      "source": [
        "4. right triangle"
      ],
      "metadata": {
        "id": "kWKl3hcNEOuu"
      }
    },
    {
      "cell_type": "code",
      "source": [
        "n=int(input(\"enter a number for pattern print: \"))\n",
        "for i in range(n):\n",
        "  for j in range(i,n):\n",
        "    print(\" \", end=\" \")\n",
        "  for j in range(i+1):\n",
        "     print(\"*\", end=\" \")\n",
        "  print()\n"
      ],
      "metadata": {
        "colab": {
          "base_uri": "https://localhost:8080/"
        },
        "id": "L7xoghMeCE2d",
        "outputId": "cd5b371e-3347-45d4-df9a-336fb68aa959"
      },
      "execution_count": null,
      "outputs": [
        {
          "output_type": "stream",
          "name": "stdout",
          "text": [
            "enter a number for pattern print: 4\n",
            "        * \n",
            "      * * \n",
            "    * * * \n",
            "  * * * * \n"
          ]
        }
      ]
    },
    {
      "cell_type": "markdown",
      "source": [
        "5. left triangle"
      ],
      "metadata": {
        "id": "mhO4-tawHKfN"
      }
    },
    {
      "cell_type": "code",
      "source": [
        "n=int(input(\"enter a number for pattern print: \"))\n",
        "for i in range(n):\n",
        "  for j in range(i+1):\n",
        "    print(\" \", end=\" \")\n",
        "  for j in range(i,n):\n",
        "     print(\"*\", end=\" \")\n",
        "  print()"
      ],
      "metadata": {
        "colab": {
          "base_uri": "https://localhost:8080/"
        },
        "id": "9TEmBq-wCE5d",
        "outputId": "60d8563a-fd4a-4f24-8438-01420abe7677"
      },
      "execution_count": null,
      "outputs": [
        {
          "output_type": "stream",
          "name": "stdout",
          "text": [
            "enter a number for pattern print: 4\n",
            "  * * * * \n",
            "    * * * \n",
            "      * * \n",
            "        * \n"
          ]
        }
      ]
    },
    {
      "cell_type": "code",
      "source": [
        "n=int(input(\"enter a number for pattern print: \"))\n",
        "for i in range(n):\n",
        "  for j in range(i,n):\n",
        "    print(\" \", end=\" \")\n",
        "  for j in range(i):\n",
        "     print(\"*\", end=\" \")\n",
        "  for j in range(i+1):\n",
        "      print(\"*\", end=\" \")\n",
        "\n",
        "  print()"
      ],
      "metadata": {
        "colab": {
          "base_uri": "https://localhost:8080/"
        },
        "id": "sOaNidpvCE9B",
        "outputId": "792a97fa-cfab-4ba0-b1c0-807d89c06ee0"
      },
      "execution_count": null,
      "outputs": [
        {
          "output_type": "stream",
          "name": "stdout",
          "text": [
            "enter a number for pattern print: 4\n",
            "        * \n",
            "      * * * \n",
            "    * * * * * \n",
            "  * * * * * * * \n"
          ]
        }
      ]
    },
    {
      "cell_type": "code",
      "source": [
        "n=int(input(\"enter a number for pattern print: \"))\n",
        "for i in range(n):\n",
        "  for j in range(i+1):\n",
        "    print(\" \", end=\" \")\n",
        "  for j in range(i,n-1):\n",
        "     print(\"*\", end=\" \")\n",
        "  for j in range(i,n):\n",
        "       print(\"*\", end=\" \")\n",
        "\n",
        "  print()"
      ],
      "metadata": {
        "colab": {
          "base_uri": "https://localhost:8080/"
        },
        "id": "wSdr97azIpHf",
        "outputId": "4c7129ed-fda1-48f4-be48-91fc2fd27733"
      },
      "execution_count": null,
      "outputs": [
        {
          "output_type": "stream",
          "name": "stdout",
          "text": [
            "enter a number for pattern print: 4\n",
            "  * * * * * * * \n",
            "    * * * * * \n",
            "      * * * \n",
            "        * \n"
          ]
        }
      ]
    },
    {
      "cell_type": "code",
      "source": [
        "n=int(input(\"enter a number for pattern print: \"))\n",
        "for i in range(n-1):\n",
        "  for j in range(i,n):\n",
        "    print(\" \", end=\" \")\n",
        "  for j in range(i):\n",
        "     print(\"*\", end=\" \")\n",
        "  for j in range(i+1):\n",
        "      print(\"*\", end=\" \")\n",
        "  print()\n",
        "for i in range(n):\n",
        "  for j in range(i+1):\n",
        "    print(\" \", end=\" \")\n",
        "  for j in range(i,n-1):\n",
        "     print(\"*\", end=\" \")\n",
        "  for j in range(i,n):\n",
        "       print(\"*\", end=\" \")\n",
        "\n",
        "  print()"
      ],
      "metadata": {
        "colab": {
          "base_uri": "https://localhost:8080/"
        },
        "id": "hmuYk3O5Jxrb",
        "outputId": "aa7d5b54-b31c-4b25-da39-29b71bdf8c7c"
      },
      "execution_count": null,
      "outputs": [
        {
          "output_type": "stream",
          "name": "stdout",
          "text": [
            "enter a number for pattern print: 4\n",
            "        * \n",
            "      * * * \n",
            "    * * * * * \n",
            "  * * * * * * * \n",
            "    * * * * * \n",
            "      * * * \n",
            "        * \n"
          ]
        }
      ]
    },
    {
      "cell_type": "code",
      "source": [
        "n=int(input(\"enter a number for pattern print: \"))\n",
        "for i in range(n):\n",
        "  for j in range(i+1):\n",
        "    print(\"1\", end=\" \" )\n",
        "  print()"
      ],
      "metadata": {
        "colab": {
          "base_uri": "https://localhost:8080/"
        },
        "id": "2DYKC6--K_ZJ",
        "outputId": "62d6b7c6-87b9-4174-c632-0d03a8180603"
      },
      "execution_count": null,
      "outputs": [
        {
          "output_type": "stream",
          "name": "stdout",
          "text": [
            "enter a number for pattern print: 4\n",
            "1 \n",
            "1 1 \n",
            "1 1 1 \n",
            "1 1 1 1 \n"
          ]
        }
      ]
    },
    {
      "cell_type": "code",
      "source": [
        "n=int(input(\"enter a number for pattern print: \"))\n",
        "for i in range(n):\n",
        "  for j in range(i+1):\n",
        "    print(i+1, end=\" \" )\n",
        "  print()"
      ],
      "metadata": {
        "colab": {
          "base_uri": "https://localhost:8080/"
        },
        "id": "oQNSmGY_Mmdl",
        "outputId": "33e65512-9dd3-4c7e-e760-48d1b22e54b2"
      },
      "execution_count": null,
      "outputs": [
        {
          "output_type": "stream",
          "name": "stdout",
          "text": [
            "enter a number for pattern print: 4\n",
            "1 \n",
            "2 2 \n",
            "3 3 3 \n",
            "4 4 4 4 \n"
          ]
        }
      ]
    },
    {
      "cell_type": "code",
      "source": [
        "n=int(input(\"enter a number for pattern print: \"))\n",
        "p=1\n",
        "for i in range(n):\n",
        "  for j in range(i+1):\n",
        "    print(p, end=\" \" )\n",
        "    p+=1\n",
        "  print()"
      ],
      "metadata": {
        "colab": {
          "base_uri": "https://localhost:8080/"
        },
        "id": "rowdY-duMmgV",
        "outputId": "897ddfeb-5ff5-4530-82b7-740b5715352d"
      },
      "execution_count": null,
      "outputs": [
        {
          "output_type": "stream",
          "name": "stdout",
          "text": [
            "enter a number for pattern print: 4\n",
            "1 \n",
            "2 3 \n",
            "4 5 6 \n",
            "7 8 9 10 \n"
          ]
        }
      ]
    },
    {
      "cell_type": "code",
      "source": [
        "n=int(input(\"enter a number for pattern print: \"))\n",
        "p=4\n",
        "for i in range(n):\n",
        "  for j in range(i+1):\n",
        "    print(p, end=\" \" )\n",
        "    p-=1\n",
        "  print()"
      ],
      "metadata": {
        "id": "Kvd51vBzMmjm",
        "colab": {
          "base_uri": "https://localhost:8080/"
        },
        "outputId": "7ed60e64-e586-48d6-87ac-038277febeff"
      },
      "execution_count": 59,
      "outputs": [
        {
          "output_type": "stream",
          "name": "stdout",
          "text": [
            "enter a number for pattern print: 4\n",
            "4 \n",
            "3 2 \n",
            "1 0 -1 \n",
            "-2 -3 -4 -5 \n"
          ]
        }
      ]
    },
    {
      "cell_type": "code",
      "source": [],
      "metadata": {
        "id": "ImV4Z4CwTRjB"
      },
      "execution_count": null,
      "outputs": []
    }
  ]
}